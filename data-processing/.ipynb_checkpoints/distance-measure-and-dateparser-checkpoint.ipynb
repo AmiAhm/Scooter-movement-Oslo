{
 "cells": [
  {
   "cell_type": "code",
   "execution_count": 3,
   "metadata": {},
   "outputs": [],
   "source": [
    "path = \"processed-data/output10min.csv\"\n",
    "output_path = \"processed-data/output10min.csv\"\n",
    "from math import radians, sin, cos, asin, sqrt, pi, atan2\n",
    "import numpy as np\n",
    "import pandas as pd\n",
    "from datetime import datetime\n",
    "\n",
    "earth_radius_meters = 6362160.0 \n",
    "def haversine(row):\n",
    "    \"\"\"\n",
    "    Returns haversine distance between (lat, lon) and (last_lat, last_lon) in a dataframe.\n",
    "    \"\"\"\n",
    "    try:\n",
    "        lat1, lon1, lat2, lon2 = radians(row['lat']),radians(row['lon']), radians(row['last_lat']),radians(row['last_lon'])\n",
    "        dlat, dlon = (lat2 - lat1, lon2 - lon1)\n",
    "        a = sin(dlat/2.0)**2 + cos(lat1) * cos(lat2) * sin(dlon/2.0)**2\n",
    "        great_circle_distance = 2 * asin(min(1,sqrt(a)))\n",
    "        d = earth_radius_meters * great_circle_distance\n",
    "    except:\n",
    "        d = 0\n",
    "    return d\n",
    "\n",
    "def date_string(x):\n",
    "    \"\"\"\n",
    "    Converts unix timestamp to datetime string\n",
    "    \"\"\"\n",
    "    \n",
    "    return datetime.utcfromtimestamp(x).strftime('%Y-%m-%d %H:%M:%S')"
   ]
  },
  {
   "cell_type": "code",
   "execution_count": null,
   "metadata": {},
   "outputs": [],
   "source": [
    "df = pd.read_csv(path)"
   ]
  },
  {
   "cell_type": "code",
   "execution_count": null,
   "metadata": {},
   "outputs": [],
   "source": [
    "df = df.sort_values(by='time')"
   ]
  },
  {
   "cell_type": "code",
   "execution_count": null,
   "metadata": {},
   "outputs": [],
   "source": [
    "df_temp = df[[\"id\",\"operator\",\"lat\",\"lon\"]].groupby(['id','operator']).shift(1)\n",
    "df_temp.columns = [\"last_lat\", \"last_lon\"]\n",
    "df = pd.concat([df,df_temp], axis = 1)"
   ]
  },
  {
   "cell_type": "code",
   "execution_count": null,
   "metadata": {},
   "outputs": [],
   "source": [
    "df['distanceTravelled'] = df.apply(haversine, axis=1)"
   ]
  },
  {
   "cell_type": "code",
   "execution_count": null,
   "metadata": {},
   "outputs": [],
   "source": [
    "df['time'] = df['time'].map(date_string)"
   ]
  },
  {
   "cell_type": "code",
   "execution_count": null,
   "metadata": {},
   "outputs": [],
   "source": [
    "df.to_csv(output_path, index = False)"
   ]
  },
  {
   "cell_type": "code",
   "execution_count": null,
   "metadata": {},
   "outputs": [],
   "source": []
  }
 ],
 "metadata": {
  "kernelspec": {
   "display_name": "Python 3",
   "language": "python",
   "name": "python3"
  },
  "language_info": {
   "codemirror_mode": {
    "name": "ipython",
    "version": 3
   },
   "file_extension": ".py",
   "mimetype": "text/x-python",
   "name": "python",
   "nbconvert_exporter": "python",
   "pygments_lexer": "ipython3",
   "version": "3.6.8"
  }
 },
 "nbformat": 4,
 "nbformat_minor": 2
}
